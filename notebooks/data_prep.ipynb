{
  "cells": [
    {
      "cell_type": "markdown",
      "metadata": {},
      "source": [
        "# Exploratory Data Analysis - Predictive Delivery Optimizer\n",
        "\n",
        "This notebook contains exploratory data analysis visualizations for the delivery delay prediction project.\n"
      ]
    },
    {
      "cell_type": "code",
      "execution_count": null,
      "metadata": {},
      "outputs": [],
      "source": [
        "import pandas as pd\n",
        "import numpy as np\n",
        "import matplotlib.pyplot as plt\n",
        "import seaborn as sns\n",
        "from pathlib import Path\n",
        "\n",
        "# Set style\n",
        "try:\n",
        "    plt.style.use('seaborn-v0_8')\n",
        "except:\n",
        "    try:\n",
        "        plt.style.use('seaborn')\n",
        "    except:\n",
        "        plt.style.use('default')\n",
        "sns.set_palette(\"husl\")\n",
        "\n",
        "# Define paths\n",
        "project_root = Path().absolute().parent\n",
        "data_dir = project_root / \"data\"\n",
        "processed_dir = project_root / \"processed\"\n",
        "\n",
        "# Load data\n",
        "merged_path = processed_dir / \"merged.csv\"\n",
        "if merged_path.exists():\n",
        "    df = pd.read_csv(merged_path)\n",
        "else:\n",
        "    # Fallback: load and merge original data\n",
        "    orders_df = pd.read_csv(data_dir / \"orders.csv\")\n",
        "    delivery_df = pd.read_csv(data_dir / \"delivery_performance.csv\")\n",
        "    routes_df = pd.read_csv(data_dir / \"routes_distance.csv\")\n",
        "    \n",
        "    df = pd.merge(orders_df, delivery_df, on=\"Order_ID\", how=\"inner\")\n",
        "    df = pd.merge(df, routes_df, on=\"Order_ID\", how=\"inner\")\n",
        "    \n",
        "    # Drop leakage columns\n",
        "    leakage_columns = [\"Route\", \"Origin\", \"Destination\", \"Customer_Segment\", \n",
        "                       \"Order_Date\", \"Special_Handling\", \"Delivery_Status\", \"Quality_Issue\"]\n",
        "    df = df.drop(columns=[col for col in leakage_columns if col in df.columns])\n",
        "    \n",
        "    # Create targets\n",
        "    df[\"delay_days\"] = df[\"Actual_Delivery_Days\"] - df[\"Promised_Delivery_Days\"]\n",
        "    df[\"is_delayed\"] = (df[\"delay_days\"] > 0).astype(int)\n",
        "\n",
        "print(f\"Data shape: {df.shape}\")\n",
        "print(f\"\\nFirst few rows:\")\n",
        "df.head()\n"
      ]
    },
    {
      "cell_type": "markdown",
      "metadata": {},
      "source": [
        "## 1. Distribution of delay_days\n"
      ]
    },
    {
      "cell_type": "code",
      "execution_count": null,
      "metadata": {},
      "outputs": [],
      "source": [
        "plt.figure(figsize=(12, 6))\n",
        "plt.hist(df[\"delay_days\"], bins=30, edgecolor='black', alpha=0.7)\n",
        "plt.xlabel(\"Delay Days\", fontsize=12)\n",
        "plt.ylabel(\"Frequency\", fontsize=12)\n",
        "plt.title(\"Distribution of Delay Days\", fontsize=14, fontweight='bold')\n",
        "plt.axvline(x=0, color='red', linestyle='--', linewidth=2, label='On-time threshold')\n",
        "plt.axvline(x=df[\"delay_days\"].mean(), color='green', linestyle='--', linewidth=2, \n",
        "            label=f'Mean: {df[\"delay_days\"].mean():.2f} days')\n",
        "plt.legend()\n",
        "plt.grid(True, alpha=0.3)\n",
        "plt.tight_layout()\n",
        "plt.show()\n",
        "\n",
        "print(f\"Mean delay: {df['delay_days'].mean():.2f} days\")\n",
        "print(f\"Median delay: {df['delay_days'].median():.2f} days\")\n",
        "print(f\"Std deviation: {df['delay_days'].std():.2f} days\")\n"
      ]
    },
    {
      "cell_type": "markdown",
      "metadata": {},
      "source": [
        "## 2. Correlation Heatmap between Numeric Features\n"
      ]
    },
    {
      "cell_type": "code",
      "execution_count": null,
      "metadata": {},
      "outputs": [],
      "source": [
        "# Select numeric features (excluding targets and Order_ID)\n",
        "numeric_cols = df.select_dtypes(include=[np.number]).columns.tolist()\n",
        "numeric_cols = [col for col in numeric_cols if col not in [\"delay_days\", \"is_delayed\", \"Order_ID\"]]\n",
        "\n",
        "# Calculate correlation matrix\n",
        "corr_matrix = df[numeric_cols].corr()\n",
        "\n",
        "# Create heatmap\n",
        "plt.figure(figsize=(12, 10))\n",
        "sns.heatmap(corr_matrix, annot=True, fmt='.2f', cmap='coolwarm', center=0,\n",
        "            square=True, linewidths=1, cbar_kws={\"shrink\": 0.8})\n",
        "plt.title(\"Correlation Heatmap - Numeric Features\", fontsize=14, fontweight='bold', pad=20)\n",
        "plt.tight_layout()\n",
        "plt.show()\n"
      ]
    },
    {
      "cell_type": "markdown",
      "metadata": {},
      "source": [
        "## 3. Delay Rate by Carrier\n"
      ]
    },
    {
      "cell_type": "code",
      "execution_count": null,
      "metadata": {},
      "outputs": [],
      "source": [
        "carrier_delays = df.groupby(\"Carrier\").agg({\n",
        "    \"is_delayed\": \"mean\",\n",
        "    \"delay_days\": \"mean\"\n",
        "}).reset_index()\n",
        "carrier_delays.columns = [\"Carrier\", \"Delay_Rate\", \"Avg_Delay_Days\"]\n",
        "carrier_delays[\"Delay_Rate\"] = carrier_delays[\"Delay_Rate\"] * 100\n",
        "carrier_delays = carrier_delays.sort_values(\"Delay_Rate\", ascending=False)\n",
        "\n",
        "plt.figure(figsize=(12, 6))\n",
        "bars = plt.bar(carrier_delays[\"Carrier\"], carrier_delays[\"Delay_Rate\"], \n",
        "               color=plt.cm.Reds(carrier_delays[\"Delay_Rate\"] / 100))\n",
        "plt.xlabel(\"Carrier\", fontsize=12)\n",
        "plt.ylabel(\"Delay Rate (%)\", fontsize=12)\n",
        "plt.title(\"Delay Rate by Carrier\", fontsize=14, fontweight='bold')\n",
        "plt.xticks(rotation=45, ha='right')\n",
        "plt.grid(True, alpha=0.3, axis='y')\n",
        "\n",
        "# Add value labels on bars\n",
        "for i, (bar, rate) in enumerate(zip(bars, carrier_delays[\"Delay_Rate\"])):\n",
        "    plt.text(bar.get_x() + bar.get_width()/2, bar.get_height() + 1,\n",
        "             f'{rate:.1f}%', ha='center', va='bottom', fontsize=10)\n",
        "\n",
        "plt.tight_layout()\n",
        "plt.show()\n",
        "\n",
        "print(\"\\nCarrier Delay Statistics:\")\n",
        "print(carrier_delays)\n"
      ]
    },
    {
      "cell_type": "markdown",
      "metadata": {},
      "source": [
        "## 4. Delay vs Weather Impact\n"
      ]
    },
    {
      "cell_type": "code",
      "execution_count": null,
      "metadata": {},
      "outputs": [],
      "source": [
        "weather_analysis = df.groupby(\"Weather_Impact\").agg({\n",
        "    \"delay_days\": [\"mean\", \"std\"],\n",
        "    \"is_delayed\": \"mean\",\n",
        "    \"Order_ID\": \"count\"\n",
        "}).reset_index()\n",
        "weather_analysis.columns = [\"Weather_Impact\", \"Avg_Delay\", \"Std_Delay\", \"Delay_Rate\", \"Count\"]\n",
        "weather_analysis[\"Delay_Rate\"] = weather_analysis[\"Delay_Rate\"] * 100\n",
        "weather_analysis = weather_analysis.sort_values(\"Avg_Delay\", ascending=False)\n",
        "\n",
        "plt.figure(figsize=(12, 6))\n",
        "x_pos = np.arange(len(weather_analysis))\n",
        "bars = plt.bar(x_pos, weather_analysis[\"Avg_Delay\"], \n",
        "               yerr=weather_analysis[\"Std_Delay\"],\n",
        "               capsize=5, alpha=0.7, color=plt.cm.viridis(weather_analysis[\"Delay_Rate\"] / 100))\n",
        "\n",
        "plt.xlabel(\"Weather Impact\", fontsize=12)\n",
        "plt.ylabel(\"Average Delay (days)\", fontsize=12)\n",
        "plt.title(\"Delay vs Weather Impact\", fontsize=14, fontweight='bold')\n",
        "plt.xticks(x_pos, weather_analysis[\"Weather_Impact\"], rotation=45, ha='right')\n",
        "plt.grid(True, alpha=0.3, axis='y')\n",
        "\n",
        "# Add value labels\n",
        "for i, (bar, avg_delay) in enumerate(zip(bars, weather_analysis[\"Avg_Delay\"])):\n",
        "    plt.text(bar.get_x() + bar.get_width()/2, bar.get_height() + weather_analysis.iloc[i][\"Std_Delay\"] + 0.1,\n",
        "             f'{avg_delay:.2f}', ha='center', va='bottom', fontsize=10)\n",
        "\n",
        "plt.tight_layout()\n",
        "plt.show()\n",
        "\n",
        "print(\"\\nWeather Impact Analysis:\")\n",
        "print(weather_analysis)\n"
      ]
    },
    {
      "cell_type": "markdown",
      "metadata": {},
      "source": [
        "## 5. Priority Level vs Delay Days\n"
      ]
    },
    {
      "cell_type": "code",
      "execution_count": null,
      "metadata": {},
      "outputs": [],
      "source": [
        "priority_analysis = df.groupby(\"Priority\").agg({\n",
        "    \"delay_days\": [\"mean\", \"median\", \"std\"],\n",
        "    \"is_delayed\": \"mean\"\n",
        "}).reset_index()\n",
        "priority_analysis.columns = [\"Priority\", \"Mean_Delay\", \"Median_Delay\", \"Std_Delay\", \"Delay_Rate\"]\n",
        "priority_analysis[\"Delay_Rate\"] = priority_analysis[\"Delay_Rate\"] * 100\n",
        "\n",
        "# Order by priority level\n",
        "priority_order = [\"Economy\", \"Standard\", \"Express\", \"Unknown\"]\n",
        "priority_analysis[\"Priority\"] = pd.Categorical(priority_analysis[\"Priority\"], categories=priority_order, ordered=True)\n",
        "priority_analysis = priority_analysis.sort_values(\"Priority\")\n",
        "\n",
        "fig, (ax1, ax2) = plt.subplots(1, 2, figsize=(14, 6))\n",
        "\n",
        "# Bar plot for mean delay\n",
        "x_pos = np.arange(len(priority_analysis))\n",
        "bars1 = ax1.bar(x_pos, priority_analysis[\"Mean_Delay\"], \n",
        "                yerr=priority_analysis[\"Std_Delay\"],\n",
        "                capsize=5, alpha=0.7, color=['#e74c3c', '#f39c12', '#2ecc71', '#95a5a6'])\n",
        "ax1.set_xlabel(\"Priority Level\", fontsize=12)\n",
        "ax1.set_ylabel(\"Average Delay (days)\", fontsize=12)\n",
        "ax1.set_title(\"Average Delay by Priority Level\", fontsize=13, fontweight='bold')\n",
        "ax1.set_xticks(x_pos)\n",
        "ax1.set_xticklabels(priority_analysis[\"Priority\"], rotation=0)\n",
        "ax1.grid(True, alpha=0.3, axis='y')\n",
        "\n",
        "# Add value labels\n",
        "for i, (bar, mean_delay) in enumerate(zip(bars1, priority_analysis[\"Mean_Delay\"])):\n",
        "    ax1.text(bar.get_x() + bar.get_width()/2, bar.get_height() + priority_analysis.iloc[i][\"Std_Delay\"] + 0.05,\n",
        "             f'{mean_delay:.2f}', ha='center', va='bottom', fontsize=10)\n",
        "\n",
        "# Box plot for distribution\n",
        "box_data = [df[df[\"Priority\"] == p][\"delay_days\"].values for p in priority_analysis[\"Priority\"] if p in df[\"Priority\"].values]\n",
        "ax2.boxplot(box_data, labels=[p for p in priority_analysis[\"Priority\"] if p in df[\"Priority\"].values],\n",
        "            patch_artist=True,\n",
        "            boxprops=dict(facecolor='lightblue', alpha=0.7),\n",
        "            medianprops=dict(color='red', linewidth=2))\n",
        "ax2.set_xlabel(\"Priority Level\", fontsize=12)\n",
        "ax2.set_ylabel(\"Delay Days\", fontsize=12)\n",
        "ax2.set_title(\"Distribution of Delay Days by Priority\", fontsize=13, fontweight='bold')\n",
        "ax2.axhline(y=0, color='red', linestyle='--', linewidth=1, alpha=0.5)\n",
        "ax2.grid(True, alpha=0.3, axis='y')\n",
        "\n",
        "plt.tight_layout()\n",
        "plt.show()\n",
        "\n",
        "print(\"\\nPriority Level Analysis:\")\n",
        "print(priority_analysis)\n"
      ]
    }
  ],
  "metadata": {
    "kernelspec": {
      "display_name": "Python 3",
      "language": "python",
      "name": "python3"
    },
    "language_info": {
      "name": "python",
      "version": "3.12.0"
    }
  },
  "nbformat": 4,
  "nbformat_minor": 2
}
